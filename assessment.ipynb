{
 "cells": [
  {
   "cell_type": "code",
   "execution_count": 1,
   "metadata": {},
   "outputs": [],
   "source": [
    "import pandas as pd\n",
    "import numpy as np\n",
    "from datetime import datetime\n",
    "df_visits = pd.read_excel('BI_Analyst_Assessment_Data_2023.xlsx',sheet_name='Visit Tbl')\n",
    "df_invoice = pd.read_excel('BI_Analyst_Assessment_Data_2023.xlsx',sheet_name='Invoice Tbl')\n",
    "df_diag = pd.read_excel('BI_Analyst_Assessment_Data_2023.xlsx',sheet_name='Diagnosis Tbl')"
   ]
  },
  {
   "cell_type": "code",
   "execution_count": 2,
   "metadata": {},
   "outputs": [
    {
     "name": "stdout",
     "output_type": "stream",
     "text": [
      "<class 'pandas.core.frame.DataFrame'>\n",
      "RangeIndex: 45226 entries, 0 to 45225\n",
      "Data columns (total 7 columns):\n",
      " #   Column         Non-Null Count  Dtype         \n",
      "---  ------         --------------  -----         \n",
      " 0   VisitCode      45226 non-null  object        \n",
      " 1   PatientCode    45226 non-null  object        \n",
      " 2   VisitDateTime  45226 non-null  datetime64[ns]\n",
      " 3   MedicalCenter  45226 non-null  object        \n",
      " 4   VisitCategory  45226 non-null  object        \n",
      " 5   Payor          45226 non-null  object        \n",
      " 6   NPS Score      1928 non-null   float64       \n",
      "dtypes: datetime64[ns](1), float64(1), object(5)\n",
      "memory usage: 2.4+ MB\n"
     ]
    }
   ],
   "source": [
    "df_visits.info()"
   ]
  },
  {
   "cell_type": "code",
   "execution_count": 3,
   "metadata": {},
   "outputs": [
    {
     "name": "stdout",
     "output_type": "stream",
     "text": [
      "<class 'pandas.core.frame.DataFrame'>\n",
      "RangeIndex: 46005 entries, 0 to 46004\n",
      "Data columns (total 2 columns):\n",
      " #   Column     Non-Null Count  Dtype \n",
      "---  ------     --------------  ----- \n",
      " 0   VisitCode  46005 non-null  object\n",
      " 1   Amount     46005 non-null  int64 \n",
      "dtypes: int64(1), object(1)\n",
      "memory usage: 719.0+ KB\n"
     ]
    }
   ],
   "source": [
    "df_invoice.info()"
   ]
  },
  {
   "cell_type": "code",
   "execution_count": 4,
   "metadata": {},
   "outputs": [
    {
     "name": "stdout",
     "output_type": "stream",
     "text": [
      "<class 'pandas.core.frame.DataFrame'>\n",
      "RangeIndex: 21860 entries, 0 to 21859\n",
      "Data columns (total 2 columns):\n",
      " #   Column     Non-Null Count  Dtype \n",
      "---  ------     --------------  ----- \n",
      " 0   VisitCode  21860 non-null  object\n",
      " 1   Diagnosis  21860 non-null  object\n",
      "dtypes: object(2)\n",
      "memory usage: 341.7+ KB\n"
     ]
    }
   ],
   "source": [
    "df_diag.info()"
   ]
  },
  {
   "cell_type": "code",
   "execution_count": null,
   "metadata": {},
   "outputs": [],
   "source": []
  },
  {
   "cell_type": "code",
   "execution_count": 5,
   "metadata": {},
   "outputs": [
    {
     "ename": "NameError",
     "evalue": "name 'visits_invoice_merge' is not defined",
     "output_type": "error",
     "traceback": [
      "\u001b[1;31m---------------------------------------------------------------------------\u001b[0m",
      "\u001b[1;31mNameError\u001b[0m                                 Traceback (most recent call last)",
      "\u001b[1;32m~\\AppData\\Local\\Temp\\ipykernel_4020\\3674786829.py\u001b[0m in \u001b[0;36m<module>\u001b[1;34m\u001b[0m\n\u001b[1;32m----> 1\u001b[1;33m \u001b[0mvisits_invoice_merge\u001b[0m\u001b[1;33m.\u001b[0m\u001b[0mmerge\u001b[0m\u001b[1;33m(\u001b[0m\u001b[0mdf_diag\u001b[0m\u001b[1;33m,\u001b[0m\u001b[0mon\u001b[0m\u001b[1;33m=\u001b[0m\u001b[1;34m'VisitCode'\u001b[0m\u001b[1;33m,\u001b[0m\u001b[0mhow\u001b[0m\u001b[1;33m=\u001b[0m\u001b[1;34m'left'\u001b[0m\u001b[1;33m)\u001b[0m\u001b[1;33m.\u001b[0m\u001b[0minfo\u001b[0m\u001b[1;33m(\u001b[0m\u001b[1;33m)\u001b[0m\u001b[1;33m\u001b[0m\u001b[1;33m\u001b[0m\u001b[0m\n\u001b[0m",
      "\u001b[1;31mNameError\u001b[0m: name 'visits_invoice_merge' is not defined"
     ]
    }
   ],
   "source": [
    "visits_invoice_merge.merge(df_diag,on='VisitCode',how='left').info()"
   ]
  },
  {
   "attachments": {},
   "cell_type": "markdown",
   "metadata": {},
   "source": [
    "1. How many visits did Kimathi Street and Pipeline medical centers' have from May 2022 and September 2022?"
   ]
  },
  {
   "cell_type": "code",
   "execution_count": 6,
   "metadata": {},
   "outputs": [
    {
     "data": {
      "text/plain": [
       "Tassia            11177\n",
       "Pipeline           9519\n",
       "Call Centre        5236\n",
       "Embakasi           5168\n",
       "Githurai 45        4166\n",
       "Lucky Summer       3387\n",
       "Kimathi Street     3349\n",
       "Mathare North      3224\n",
       "Name: MedicalCenter, dtype: int64"
      ]
     },
     "execution_count": 6,
     "metadata": {},
     "output_type": "execute_result"
    }
   ],
   "source": [
    "df_visits['MedicalCenter'].value_counts()"
   ]
  },
  {
   "cell_type": "code",
   "execution_count": 7,
   "metadata": {},
   "outputs": [
    {
     "data": {
      "text/plain": [
       "(6730, 7)"
      ]
     },
     "execution_count": 7,
     "metadata": {},
     "output_type": "execute_result"
    }
   ],
   "source": [
    "kimath_pipe_visits = df_visits[(df_visits['MedicalCenter']=='Kimathi Street')| (df_visits['MedicalCenter']=='Pipeline')]\n",
    "kimathi_pipe_march_sep_visits = kimath_pipe_visits[(kimath_pipe_visits['VisitDateTime']>='2022-05-01') & (kimath_pipe_visits['VisitDateTime']<'2022-09-1')]\n",
    "kimathi_pipe_march_sep_visits.shape"
   ]
  },
  {
   "cell_type": "code",
   "execution_count": 8,
   "metadata": {},
   "outputs": [
    {
     "data": {
      "text/plain": [
       "June         1996\n",
       "May          1723\n",
       "October      1687\n",
       "March        1625\n",
       "July         1575\n",
       "September    1474\n",
       "August       1436\n",
       "April        1352\n",
       "Name: VisitDateTime, dtype: int64"
      ]
     },
     "execution_count": 8,
     "metadata": {},
     "output_type": "execute_result"
    }
   ],
   "source": [
    "kimath_pipe_visits.VisitDateTime.dt.month_name().value_counts()"
   ]
  },
  {
   "cell_type": "code",
   "execution_count": 9,
   "metadata": {},
   "outputs": [
    {
     "data": {
      "text/plain": [
       "(3086, 7)"
      ]
     },
     "execution_count": 9,
     "metadata": {},
     "output_type": "execute_result"
    }
   ],
   "source": [
    "kimath_pipe_visits = df_visits[(df_visits['MedicalCenter']=='Kimathi Street')| (df_visits['MedicalCenter']=='Pipeline')]\n",
    "kimath_pipe_visits_march = kimath_pipe_visits[(kimath_pipe_visits['VisitDateTime']>'2022-05-01') & (kimath_pipe_visits['VisitDateTime']<'2022-05-31')]\n",
    "kimath_pipe_visits_sept = kimath_pipe_visits[(kimath_pipe_visits['VisitDateTime']>'2022-09-01') & (kimath_pipe_visits['VisitDateTime']<'2022-09-30')]\n",
    "kimathi_pipe_march_sep_visits = pd.concat([kimath_pipe_visits_sept,kimath_pipe_visits_march])\n",
    "kimathi_pipe_march_sep_visits.shape"
   ]
  },
  {
   "cell_type": "code",
   "execution_count": 10,
   "metadata": {},
   "outputs": [
    {
     "data": {
      "text/plain": [
       "(1420, 7, 1666, 7)"
      ]
     },
     "execution_count": 10,
     "metadata": {},
     "output_type": "execute_result"
    }
   ],
   "source": [
    "kimath_pipe_visits_sept.shape + kimath_pipe_visits_march.shape"
   ]
  },
  {
   "attachments": {},
   "cell_type": "markdown",
   "metadata": {},
   "source": [
    "2. What was the most common diagnosis in 2022 for Tassia and Embakasi branches combined?"
   ]
  },
  {
   "cell_type": "code",
   "execution_count": 11,
   "metadata": {},
   "outputs": [
    {
     "data": {
      "text/plain": [
       "acute nasopharyngitis                  1512\n",
       "tonsillitis, acute bacterial           1317\n",
       "review                                  814\n",
       "acute gastritis                         620\n",
       "acute rhinitis                          618\n",
       "acute bronchitis                        504\n",
       "family planning                         474\n",
       "normal pregnancy                        422\n",
       "pneumonia                               418\n",
       "gastroenteritis with no dehydration     362\n",
       "myalgia                                 267\n",
       "soft tissue injury                      236\n",
       "food poisoning                          229\n",
       "dermatitis                              164\n",
       "migraine                                127\n",
       "common cold                             111\n",
       "acute pharyngitis, viral                 86\n",
       "amoebiasis                               86\n",
       "allergic rhinitis                        86\n",
       "cystitis                                 78\n",
       "acute otitis media                       77\n",
       "eczema                                   66\n",
       "bacterial conjunctivitis                 44\n",
       "first degree burn                        41\n",
       "severe pneumonia                         33\n",
       "asthma, uncomplicated                    30\n",
       "severe malaria                           28\n",
       "diabetes mellitus type 2                 25\n",
       "septic wound                             23\n",
       "hypertensive urgency                     14\n",
       "gingivitis                               11\n",
       "Name: Diagnosis, dtype: int64"
      ]
     },
     "execution_count": 11,
     "metadata": {},
     "output_type": "execute_result"
    }
   ],
   "source": [
    "visit_diag_merge = pd.merge(df_visits,df_diag,on='VisitCode',how='left')\n",
    "tass_emb_selec = visit_diag_merge[(visit_diag_merge['MedicalCenter']=='Tassia') | (visit_diag_merge['MedicalCenter']=='Embakasi')]\n",
    "tass_emb_selec['Diagnosis'].value_counts()"
   ]
  },
  {
   "cell_type": "code",
   "execution_count": 12,
   "metadata": {},
   "outputs": [
    {
     "data": {
      "text/html": [
       "<div>\n",
       "<style scoped>\n",
       "    .dataframe tbody tr th:only-of-type {\n",
       "        vertical-align: middle;\n",
       "    }\n",
       "\n",
       "    .dataframe tbody tr th {\n",
       "        vertical-align: top;\n",
       "    }\n",
       "\n",
       "    .dataframe thead th {\n",
       "        text-align: right;\n",
       "    }\n",
       "</style>\n",
       "<table border=\"1\" class=\"dataframe\">\n",
       "  <thead>\n",
       "    <tr style=\"text-align: right;\">\n",
       "      <th></th>\n",
       "      <th></th>\n",
       "      <th>Diagnosis</th>\n",
       "    </tr>\n",
       "    <tr>\n",
       "      <th>MedicalCenter</th>\n",
       "      <th>Diagnosis</th>\n",
       "      <th></th>\n",
       "    </tr>\n",
       "  </thead>\n",
       "  <tbody>\n",
       "    <tr>\n",
       "      <th rowspan=\"5\" valign=\"top\">Call Centre</th>\n",
       "      <th>acute bronchitis</th>\n",
       "      <td>11</td>\n",
       "    </tr>\n",
       "    <tr>\n",
       "      <th>acute gastritis</th>\n",
       "      <td>85</td>\n",
       "    </tr>\n",
       "    <tr>\n",
       "      <th>acute nasopharyngitis</th>\n",
       "      <td>94</td>\n",
       "    </tr>\n",
       "    <tr>\n",
       "      <th>acute otitis media</th>\n",
       "      <td>5</td>\n",
       "    </tr>\n",
       "    <tr>\n",
       "      <th>acute pharyngitis, viral</th>\n",
       "      <td>10</td>\n",
       "    </tr>\n",
       "    <tr>\n",
       "      <th>...</th>\n",
       "      <th>...</th>\n",
       "      <td>...</td>\n",
       "    </tr>\n",
       "    <tr>\n",
       "      <th rowspan=\"5\" valign=\"top\">Tassia</th>\n",
       "      <th>septic wound</th>\n",
       "      <td>23</td>\n",
       "    </tr>\n",
       "    <tr>\n",
       "      <th>severe malaria</th>\n",
       "      <td>22</td>\n",
       "    </tr>\n",
       "    <tr>\n",
       "      <th>severe pneumonia</th>\n",
       "      <td>24</td>\n",
       "    </tr>\n",
       "    <tr>\n",
       "      <th>soft tissue injury</th>\n",
       "      <td>149</td>\n",
       "    </tr>\n",
       "    <tr>\n",
       "      <th>tonsillitis, acute bacterial</th>\n",
       "      <td>936</td>\n",
       "    </tr>\n",
       "  </tbody>\n",
       "</table>\n",
       "<p>242 rows × 1 columns</p>\n",
       "</div>"
      ],
      "text/plain": [
       "                                            Diagnosis\n",
       "MedicalCenter Diagnosis                              \n",
       "Call Centre   acute bronchitis                     11\n",
       "              acute gastritis                      85\n",
       "              acute nasopharyngitis                94\n",
       "              acute otitis media                    5\n",
       "              acute pharyngitis, viral             10\n",
       "...                                               ...\n",
       "Tassia        septic wound                         23\n",
       "              severe malaria                       22\n",
       "              severe pneumonia                     24\n",
       "              soft tissue injury                  149\n",
       "              tonsillitis, acute bacterial        936\n",
       "\n",
       "[242 rows x 1 columns]"
      ]
     },
     "execution_count": 12,
     "metadata": {},
     "output_type": "execute_result"
    }
   ],
   "source": [
    "visit_diag_merge.groupby(['MedicalCenter','Diagnosis']).agg({'Diagnosis':'count'})"
   ]
  },
  {
   "attachments": {},
   "cell_type": "markdown",
   "metadata": {},
   "source": [
    "3. Which payor was the most profitable (in absolute numbers) for Penda Health in 2022? {Assume a gross average margin of 30% per visit}."
   ]
  },
  {
   "cell_type": "code",
   "execution_count": 13,
   "metadata": {},
   "outputs": [],
   "source": [
    "insurance = df_visits[df_visits['Payor']!='Cash']\n",
    "insurace_visits = list(insurance['VisitCode'].unique())\n",
    "df_invoice_clean = df_invoice.copy()\n",
    "mask = (df_invoice_clean['VisitCode'].isin(insurace_visits)) & (df_invoice_clean['Amount']<100)\n",
    "df_invoice_clean.loc[mask,'Amount'] = 100\n",
    "df_invoice_clean = df_invoice_clean.groupby('VisitCode').agg({'Amount':'sum'}).reset_index()"
   ]
  },
  {
   "cell_type": "code",
   "execution_count": 14,
   "metadata": {},
   "outputs": [
    {
     "data": {
      "text/html": [
       "<div>\n",
       "<style scoped>\n",
       "    .dataframe tbody tr th:only-of-type {\n",
       "        vertical-align: middle;\n",
       "    }\n",
       "\n",
       "    .dataframe tbody tr th {\n",
       "        vertical-align: top;\n",
       "    }\n",
       "\n",
       "    .dataframe thead th {\n",
       "        text-align: right;\n",
       "    }\n",
       "</style>\n",
       "<table border=\"1\" class=\"dataframe\">\n",
       "  <thead>\n",
       "    <tr style=\"text-align: right;\">\n",
       "      <th></th>\n",
       "      <th>Profit</th>\n",
       "    </tr>\n",
       "    <tr>\n",
       "      <th>Payor</th>\n",
       "      <th></th>\n",
       "    </tr>\n",
       "  </thead>\n",
       "  <tbody>\n",
       "    <tr>\n",
       "      <th>Cash</th>\n",
       "      <td>11269575.0</td>\n",
       "    </tr>\n",
       "    <tr>\n",
       "      <th>Insurance Company B</th>\n",
       "      <td>10051335.9</td>\n",
       "    </tr>\n",
       "    <tr>\n",
       "      <th>Insurance Company A</th>\n",
       "      <td>1669599.6</td>\n",
       "    </tr>\n",
       "  </tbody>\n",
       "</table>\n",
       "</div>"
      ],
      "text/plain": [
       "                         Profit\n",
       "Payor                          \n",
       "Cash                 11269575.0\n",
       "Insurance Company B  10051335.9\n",
       "Insurance Company A   1669599.6"
      ]
     },
     "execution_count": 14,
     "metadata": {},
     "output_type": "execute_result"
    }
   ],
   "source": [
    "insur_inv_merge = df_visits.merge(df_invoice_clean,how='left',on='VisitCode')\n",
    "insur_inv_merge['Profit'] = insur_inv_merge['Amount'] * 0.3\n",
    "insur_inv_merge.groupby('Payor').agg({'Profit':'sum'}).sort_values(by='Profit',ascending=False)"
   ]
  },
  {
   "attachments": {},
   "cell_type": "markdown",
   "metadata": {},
   "source": [
    "4. Which medical center was the least profitable  (in absolute numbers)  in 2022?  {Assume a gross average margin of 30% per visit}."
   ]
  },
  {
   "cell_type": "code",
   "execution_count": 15,
   "metadata": {},
   "outputs": [
    {
     "data": {
      "text/html": [
       "<div>\n",
       "<style scoped>\n",
       "    .dataframe tbody tr th:only-of-type {\n",
       "        vertical-align: middle;\n",
       "    }\n",
       "\n",
       "    .dataframe tbody tr th {\n",
       "        vertical-align: top;\n",
       "    }\n",
       "\n",
       "    .dataframe thead th {\n",
       "        text-align: right;\n",
       "    }\n",
       "</style>\n",
       "<table border=\"1\" class=\"dataframe\">\n",
       "  <thead>\n",
       "    <tr style=\"text-align: right;\">\n",
       "      <th></th>\n",
       "      <th>Profit</th>\n",
       "    </tr>\n",
       "    <tr>\n",
       "      <th>MedicalCenter</th>\n",
       "      <th></th>\n",
       "    </tr>\n",
       "  </thead>\n",
       "  <tbody>\n",
       "    <tr>\n",
       "      <th>Call Centre</th>\n",
       "      <td>617146.8</td>\n",
       "    </tr>\n",
       "    <tr>\n",
       "      <th>Mathare North</th>\n",
       "      <td>1487595.3</td>\n",
       "    </tr>\n",
       "    <tr>\n",
       "      <th>Githurai 45</th>\n",
       "      <td>1976979.9</td>\n",
       "    </tr>\n",
       "    <tr>\n",
       "      <th>Lucky Summer</th>\n",
       "      <td>2002607.1</td>\n",
       "    </tr>\n",
       "    <tr>\n",
       "      <th>Kimathi Street</th>\n",
       "      <td>2571794.4</td>\n",
       "    </tr>\n",
       "    <tr>\n",
       "      <th>Embakasi</th>\n",
       "      <td>2753515.2</td>\n",
       "    </tr>\n",
       "    <tr>\n",
       "      <th>Pipeline</th>\n",
       "      <td>5716678.5</td>\n",
       "    </tr>\n",
       "    <tr>\n",
       "      <th>Tassia</th>\n",
       "      <td>5864193.3</td>\n",
       "    </tr>\n",
       "  </tbody>\n",
       "</table>\n",
       "</div>"
      ],
      "text/plain": [
       "                   Profit\n",
       "MedicalCenter            \n",
       "Call Centre      617146.8\n",
       "Mathare North   1487595.3\n",
       "Githurai 45     1976979.9\n",
       "Lucky Summer    2002607.1\n",
       "Kimathi Street  2571794.4\n",
       "Embakasi        2753515.2\n",
       "Pipeline        5716678.5\n",
       "Tassia          5864193.3"
      ]
     },
     "execution_count": 15,
     "metadata": {},
     "output_type": "execute_result"
    }
   ],
   "source": [
    "# inv_visit_merge = df_visits.merge(df_invoice,how='left',on='VisitCode')\n",
    "\n",
    "# # the least possible invoice amount for any insurance visit should be 100\n",
    "# inv_visit_merge['Amount'].iloc[(inv_visit_merge['Amount']==0) & (inv_visit_merge['Payor']!='Cash')] = 100\n",
    "# inv_visit_merge['Profit'] = inv_visit_merge['Amount'] * 0.3\n",
    "insur_inv_merge.groupby('Payor').agg({'Profit':'sum'}).sort_values(by='Profit',ascending=False)\n",
    "insur_inv_merge.groupby('MedicalCenter').agg({'Profit':'sum'}).sort_values(by='Profit')"
   ]
  },
  {
   "attachments": {},
   "cell_type": "markdown",
   "metadata": {},
   "source": [
    "5. What was the average spend per visit for visits that had a diagnosis of acute gastritis?"
   ]
  },
  {
   "cell_type": "code",
   "execution_count": 16,
   "metadata": {},
   "outputs": [
    {
     "name": "stdout",
     "output_type": "stream",
     "text": [
      "<class 'pandas.core.frame.DataFrame'>\n",
      "RangeIndex: 19736 entries, 0 to 19735\n",
      "Data columns (total 2 columns):\n",
      " #   Column     Non-Null Count  Dtype \n",
      "---  ------     --------------  ----- \n",
      " 0   VisitCode  19736 non-null  object\n",
      " 1   Diagnosis  19736 non-null  object\n",
      "dtypes: object(2)\n",
      "memory usage: 308.5+ KB\n"
     ]
    }
   ],
   "source": [
    "df_diag_clean = df_diag.copy()\n",
    "df_diag_clean = df_diag_clean.groupby('VisitCode')['Diagnosis'].apply(lambda x: ','.join(x)).reset_index()\n",
    "df_diag_clean.info()"
   ]
  },
  {
   "cell_type": "code",
   "execution_count": 17,
   "metadata": {},
   "outputs": [
    {
     "data": {
      "text/plain": [
       "2820.2234375"
      ]
     },
     "execution_count": 17,
     "metadata": {},
     "output_type": "execute_result"
    }
   ],
   "source": [
    "visit_inv_merge = df_visits.merge(df_invoice_clean,how='left',on='VisitCode')\n",
    "diag_inv_merge = visit_inv_merge.merge(df_diag_clean,on='VisitCode',how='inner')\n",
    "diag_inv_merge[diag_inv_merge['Diagnosis'].str.contains('acute gastritis')]['Amount'].mean()\n",
    "# diag_inv_merge[diag_inv_merge['Diagnosis']=='acute gastritis']['Amount'].mean()"
   ]
  },
  {
   "attachments": {},
   "cell_type": "markdown",
   "metadata": {},
   "source": [
    "6. At Penda Health, we have a blended healthcare model where patients can get treatment physically (by visiting a medical centers) or virtually (through our call center). In 2022, how many unique patients experienced a blended healthcare approach in their healthcare journey?"
   ]
  },
  {
   "cell_type": "code",
   "execution_count": 18,
   "metadata": {},
   "outputs": [
    {
     "data": {
      "text/plain": [
       "284"
      ]
     },
     "execution_count": 18,
     "metadata": {},
     "output_type": "execute_result"
    }
   ],
   "source": [
    "telemed_patients = df_visits[df_visits['VisitCategory']=='Telemedicine Visit']['PatientCode'].unique()\n",
    "len(df_visits[(df_visits['VisitCategory']=='In-person Visit')&(df_visits['PatientCode']).isin(telemed_patients)]['PatientCode'].unique())"
   ]
  },
  {
   "attachments": {},
   "cell_type": "markdown",
   "metadata": {},
   "source": [
    "7. Calculate the Net Promoter Score (NPS) in Q3 2022. {Please note that valid NPS scores range from 0 to 10}"
   ]
  },
  {
   "cell_type": "code",
   "execution_count": 19,
   "metadata": {},
   "outputs": [
    {
     "data": {
      "text/plain": [
       "8.932203389830509"
      ]
     },
     "execution_count": 19,
     "metadata": {},
     "output_type": "execute_result"
    }
   ],
   "source": [
    "df_visits[df_visits['VisitDateTime'].dt.quarter == 3]['NPS Score'].mean()"
   ]
  },
  {
   "attachments": {},
   "cell_type": "markdown",
   "metadata": {},
   "source": [
    "8. In 2022 what proportion of visits in Penda Health were second visits?{A first visit is when a patient visits Penda Health for the very first time, a second visit is when the same patient visits again i.e. a second time and so on}"
   ]
  },
  {
   "cell_type": "code",
   "execution_count": 20,
   "metadata": {},
   "outputs": [
    {
     "data": {
      "text/plain": [
       "18.40313094237828"
      ]
     },
     "execution_count": 20,
     "metadata": {},
     "output_type": "execute_result"
    }
   ],
   "source": [
    "(df_visits[(df_visits.groupby('PatientCode').cumcount() == 1)].shape[0] / df_visits.shape[0])*100"
   ]
  },
  {
   "attachments": {},
   "cell_type": "markdown",
   "metadata": {},
   "source": [
    "9. What percent of visits in April 2022 happened within 30 days of the preceding visit by the same patient?"
   ]
  },
  {
   "cell_type": "code",
   "execution_count": 21,
   "metadata": {},
   "outputs": [],
   "source": [
    "mar_apr_visits = df_visits[(df_visits['VisitDateTime']>'2022-03-01')&(df_visits['VisitDateTime']<'2022-04-30')]\n",
    "mar_apr_visits = mar_apr_visits.groupby('PatientCode')['VisitDateTime'].apply(lambda x: x.sort_values()).reset_index()"
   ]
  },
  {
   "cell_type": "code",
   "execution_count": 22,
   "metadata": {},
   "outputs": [],
   "source": [
    "mar_apr_visits = df_visits[(df_visits['VisitDateTime']>'2022-03-01')&(df_visits['VisitDateTime']<'2022-04-30')]\n",
    "mar_apr_visits = mar_apr_visits.sort_values(by='VisitDateTime').copy()\n",
    "mar_apr_visits['diff']= mar_apr_visits.groupby('PatientCode')['VisitDateTime'].diff() / np.timedelta64(1, 'D')\n",
    "mar_apr_visits['diff'] = mar_apr_visits['diff'].fillna(0)"
   ]
  },
  {
   "cell_type": "code",
   "execution_count": 23,
   "metadata": {},
   "outputs": [
    {
     "data": {
      "text/plain": [
       "3.9999115553000486"
      ]
     },
     "execution_count": 23,
     "metadata": {},
     "output_type": "execute_result"
    }
   ],
   "source": [
    "(mar_apr_visits[(mar_apr_visits['diff']>0)&(mar_apr_visits['diff']<=30)].shape[0] / df_visits.shape[0])*100"
   ]
  },
  {
   "cell_type": "code",
   "execution_count": 24,
   "metadata": {},
   "outputs": [
    {
     "ename": "KeyError",
     "evalue": "\"['level_1'] not found in axis\"",
     "output_type": "error",
     "traceback": [
      "\u001b[1;31m---------------------------------------------------------------------------\u001b[0m",
      "\u001b[1;31mKeyError\u001b[0m                                  Traceback (most recent call last)",
      "\u001b[1;32m~\\AppData\\Local\\Temp\\ipykernel_4020\\3198619991.py\u001b[0m in \u001b[0;36m<module>\u001b[1;34m\u001b[0m\n\u001b[1;32m----> 1\u001b[1;33m \u001b[0mmar_apr_visits\u001b[0m\u001b[1;33m[\u001b[0m\u001b[1;34m'diff'\u001b[0m\u001b[1;33m]\u001b[0m \u001b[1;33m=\u001b[0m \u001b[0mmar_apr_visits\u001b[0m\u001b[1;33m.\u001b[0m\u001b[0mdrop\u001b[0m\u001b[1;33m(\u001b[0m\u001b[0mcolumns\u001b[0m\u001b[1;33m=\u001b[0m\u001b[1;34m'level_1'\u001b[0m\u001b[1;33m,\u001b[0m\u001b[0maxis\u001b[0m\u001b[1;33m=\u001b[0m\u001b[1;36m1\u001b[0m\u001b[1;33m)\u001b[0m\u001b[1;33m[\u001b[0m\u001b[1;34m'VisitDateTime'\u001b[0m\u001b[1;33m]\u001b[0m\u001b[1;33m.\u001b[0m\u001b[0mdiff\u001b[0m\u001b[1;33m(\u001b[0m\u001b[1;33m)\u001b[0m \u001b[1;33m/\u001b[0m \u001b[0mnp\u001b[0m\u001b[1;33m.\u001b[0m\u001b[0mtimedelta64\u001b[0m\u001b[1;33m(\u001b[0m\u001b[1;36m1\u001b[0m\u001b[1;33m,\u001b[0m \u001b[1;34m'D'\u001b[0m\u001b[1;33m)\u001b[0m\u001b[1;33m\u001b[0m\u001b[1;33m\u001b[0m\u001b[0m\n\u001b[0m\u001b[0;32m      2\u001b[0m \u001b[0mmar_apr_visits\u001b[0m\u001b[1;33m[\u001b[0m\u001b[1;34m'diff'\u001b[0m\u001b[1;33m]\u001b[0m \u001b[1;33m=\u001b[0m \u001b[0mmar_apr_visits\u001b[0m\u001b[1;33m[\u001b[0m\u001b[1;34m'diff'\u001b[0m\u001b[1;33m]\u001b[0m\u001b[1;33m.\u001b[0m\u001b[0mround\u001b[0m\u001b[1;33m(\u001b[0m\u001b[1;33m)\u001b[0m\u001b[1;33m\u001b[0m\u001b[1;33m\u001b[0m\u001b[0m\n\u001b[0;32m      3\u001b[0m \u001b[0mmar_apr_visits\u001b[0m\u001b[1;33m[\u001b[0m\u001b[0mmar_apr_visits\u001b[0m\u001b[1;33m[\u001b[0m\u001b[1;34m'diff'\u001b[0m\u001b[1;33m]\u001b[0m\u001b[1;33m>\u001b[0m\u001b[1;36m1\u001b[0m\u001b[1;33m]\u001b[0m\u001b[1;33m\u001b[0m\u001b[1;33m\u001b[0m\u001b[0m\n",
      "\u001b[1;32mc:\\ProgramData\\Anaconda3\\lib\\site-packages\\pandas\\util\\_decorators.py\u001b[0m in \u001b[0;36mwrapper\u001b[1;34m(*args, **kwargs)\u001b[0m\n\u001b[0;32m    309\u001b[0m                     \u001b[0mstacklevel\u001b[0m\u001b[1;33m=\u001b[0m\u001b[0mstacklevel\u001b[0m\u001b[1;33m,\u001b[0m\u001b[1;33m\u001b[0m\u001b[1;33m\u001b[0m\u001b[0m\n\u001b[0;32m    310\u001b[0m                 )\n\u001b[1;32m--> 311\u001b[1;33m             \u001b[1;32mreturn\u001b[0m \u001b[0mfunc\u001b[0m\u001b[1;33m(\u001b[0m\u001b[1;33m*\u001b[0m\u001b[0margs\u001b[0m\u001b[1;33m,\u001b[0m \u001b[1;33m**\u001b[0m\u001b[0mkwargs\u001b[0m\u001b[1;33m)\u001b[0m\u001b[1;33m\u001b[0m\u001b[1;33m\u001b[0m\u001b[0m\n\u001b[0m\u001b[0;32m    312\u001b[0m \u001b[1;33m\u001b[0m\u001b[0m\n\u001b[0;32m    313\u001b[0m         \u001b[1;32mreturn\u001b[0m \u001b[0mwrapper\u001b[0m\u001b[1;33m\u001b[0m\u001b[1;33m\u001b[0m\u001b[0m\n",
      "\u001b[1;32mc:\\ProgramData\\Anaconda3\\lib\\site-packages\\pandas\\core\\frame.py\u001b[0m in \u001b[0;36mdrop\u001b[1;34m(self, labels, axis, index, columns, level, inplace, errors)\u001b[0m\n\u001b[0;32m   4955\u001b[0m                 \u001b[0mweight\u001b[0m  \u001b[1;36m1.0\u001b[0m     \u001b[1;36m0.8\u001b[0m\u001b[1;33m\u001b[0m\u001b[1;33m\u001b[0m\u001b[0m\n\u001b[0;32m   4956\u001b[0m         \"\"\"\n\u001b[1;32m-> 4957\u001b[1;33m         return super().drop(\n\u001b[0m\u001b[0;32m   4958\u001b[0m             \u001b[0mlabels\u001b[0m\u001b[1;33m=\u001b[0m\u001b[0mlabels\u001b[0m\u001b[1;33m,\u001b[0m\u001b[1;33m\u001b[0m\u001b[1;33m\u001b[0m\u001b[0m\n\u001b[0;32m   4959\u001b[0m             \u001b[0maxis\u001b[0m\u001b[1;33m=\u001b[0m\u001b[0maxis\u001b[0m\u001b[1;33m,\u001b[0m\u001b[1;33m\u001b[0m\u001b[1;33m\u001b[0m\u001b[0m\n",
      "\u001b[1;32mc:\\ProgramData\\Anaconda3\\lib\\site-packages\\pandas\\core\\generic.py\u001b[0m in \u001b[0;36mdrop\u001b[1;34m(self, labels, axis, index, columns, level, inplace, errors)\u001b[0m\n\u001b[0;32m   4265\u001b[0m         \u001b[1;32mfor\u001b[0m \u001b[0maxis\u001b[0m\u001b[1;33m,\u001b[0m \u001b[0mlabels\u001b[0m \u001b[1;32min\u001b[0m \u001b[0maxes\u001b[0m\u001b[1;33m.\u001b[0m\u001b[0mitems\u001b[0m\u001b[1;33m(\u001b[0m\u001b[1;33m)\u001b[0m\u001b[1;33m:\u001b[0m\u001b[1;33m\u001b[0m\u001b[1;33m\u001b[0m\u001b[0m\n\u001b[0;32m   4266\u001b[0m             \u001b[1;32mif\u001b[0m \u001b[0mlabels\u001b[0m \u001b[1;32mis\u001b[0m \u001b[1;32mnot\u001b[0m \u001b[1;32mNone\u001b[0m\u001b[1;33m:\u001b[0m\u001b[1;33m\u001b[0m\u001b[1;33m\u001b[0m\u001b[0m\n\u001b[1;32m-> 4267\u001b[1;33m                 \u001b[0mobj\u001b[0m \u001b[1;33m=\u001b[0m \u001b[0mobj\u001b[0m\u001b[1;33m.\u001b[0m\u001b[0m_drop_axis\u001b[0m\u001b[1;33m(\u001b[0m\u001b[0mlabels\u001b[0m\u001b[1;33m,\u001b[0m \u001b[0maxis\u001b[0m\u001b[1;33m,\u001b[0m \u001b[0mlevel\u001b[0m\u001b[1;33m=\u001b[0m\u001b[0mlevel\u001b[0m\u001b[1;33m,\u001b[0m \u001b[0merrors\u001b[0m\u001b[1;33m=\u001b[0m\u001b[0merrors\u001b[0m\u001b[1;33m)\u001b[0m\u001b[1;33m\u001b[0m\u001b[1;33m\u001b[0m\u001b[0m\n\u001b[0m\u001b[0;32m   4268\u001b[0m \u001b[1;33m\u001b[0m\u001b[0m\n\u001b[0;32m   4269\u001b[0m         \u001b[1;32mif\u001b[0m \u001b[0minplace\u001b[0m\u001b[1;33m:\u001b[0m\u001b[1;33m\u001b[0m\u001b[1;33m\u001b[0m\u001b[0m\n",
      "\u001b[1;32mc:\\ProgramData\\Anaconda3\\lib\\site-packages\\pandas\\core\\generic.py\u001b[0m in \u001b[0;36m_drop_axis\u001b[1;34m(self, labels, axis, level, errors, consolidate, only_slice)\u001b[0m\n\u001b[0;32m   4309\u001b[0m                 \u001b[0mnew_axis\u001b[0m \u001b[1;33m=\u001b[0m \u001b[0maxis\u001b[0m\u001b[1;33m.\u001b[0m\u001b[0mdrop\u001b[0m\u001b[1;33m(\u001b[0m\u001b[0mlabels\u001b[0m\u001b[1;33m,\u001b[0m \u001b[0mlevel\u001b[0m\u001b[1;33m=\u001b[0m\u001b[0mlevel\u001b[0m\u001b[1;33m,\u001b[0m \u001b[0merrors\u001b[0m\u001b[1;33m=\u001b[0m\u001b[0merrors\u001b[0m\u001b[1;33m)\u001b[0m\u001b[1;33m\u001b[0m\u001b[1;33m\u001b[0m\u001b[0m\n\u001b[0;32m   4310\u001b[0m             \u001b[1;32melse\u001b[0m\u001b[1;33m:\u001b[0m\u001b[1;33m\u001b[0m\u001b[1;33m\u001b[0m\u001b[0m\n\u001b[1;32m-> 4311\u001b[1;33m                 \u001b[0mnew_axis\u001b[0m \u001b[1;33m=\u001b[0m \u001b[0maxis\u001b[0m\u001b[1;33m.\u001b[0m\u001b[0mdrop\u001b[0m\u001b[1;33m(\u001b[0m\u001b[0mlabels\u001b[0m\u001b[1;33m,\u001b[0m \u001b[0merrors\u001b[0m\u001b[1;33m=\u001b[0m\u001b[0merrors\u001b[0m\u001b[1;33m)\u001b[0m\u001b[1;33m\u001b[0m\u001b[1;33m\u001b[0m\u001b[0m\n\u001b[0m\u001b[0;32m   4312\u001b[0m             \u001b[0mindexer\u001b[0m \u001b[1;33m=\u001b[0m \u001b[0maxis\u001b[0m\u001b[1;33m.\u001b[0m\u001b[0mget_indexer\u001b[0m\u001b[1;33m(\u001b[0m\u001b[0mnew_axis\u001b[0m\u001b[1;33m)\u001b[0m\u001b[1;33m\u001b[0m\u001b[1;33m\u001b[0m\u001b[0m\n\u001b[0;32m   4313\u001b[0m \u001b[1;33m\u001b[0m\u001b[0m\n",
      "\u001b[1;32mc:\\ProgramData\\Anaconda3\\lib\\site-packages\\pandas\\core\\indexes\\base.py\u001b[0m in \u001b[0;36mdrop\u001b[1;34m(self, labels, errors)\u001b[0m\n\u001b[0;32m   6659\u001b[0m         \u001b[1;32mif\u001b[0m \u001b[0mmask\u001b[0m\u001b[1;33m.\u001b[0m\u001b[0many\u001b[0m\u001b[1;33m(\u001b[0m\u001b[1;33m)\u001b[0m\u001b[1;33m:\u001b[0m\u001b[1;33m\u001b[0m\u001b[1;33m\u001b[0m\u001b[0m\n\u001b[0;32m   6660\u001b[0m             \u001b[1;32mif\u001b[0m \u001b[0merrors\u001b[0m \u001b[1;33m!=\u001b[0m \u001b[1;34m\"ignore\"\u001b[0m\u001b[1;33m:\u001b[0m\u001b[1;33m\u001b[0m\u001b[1;33m\u001b[0m\u001b[0m\n\u001b[1;32m-> 6661\u001b[1;33m                 \u001b[1;32mraise\u001b[0m \u001b[0mKeyError\u001b[0m\u001b[1;33m(\u001b[0m\u001b[1;34mf\"{list(labels[mask])} not found in axis\"\u001b[0m\u001b[1;33m)\u001b[0m\u001b[1;33m\u001b[0m\u001b[1;33m\u001b[0m\u001b[0m\n\u001b[0m\u001b[0;32m   6662\u001b[0m             \u001b[0mindexer\u001b[0m \u001b[1;33m=\u001b[0m \u001b[0mindexer\u001b[0m\u001b[1;33m[\u001b[0m\u001b[1;33m~\u001b[0m\u001b[0mmask\u001b[0m\u001b[1;33m]\u001b[0m\u001b[1;33m\u001b[0m\u001b[1;33m\u001b[0m\u001b[0m\n\u001b[0;32m   6663\u001b[0m         \u001b[1;32mreturn\u001b[0m \u001b[0mself\u001b[0m\u001b[1;33m.\u001b[0m\u001b[0mdelete\u001b[0m\u001b[1;33m(\u001b[0m\u001b[0mindexer\u001b[0m\u001b[1;33m)\u001b[0m\u001b[1;33m\u001b[0m\u001b[1;33m\u001b[0m\u001b[0m\n",
      "\u001b[1;31mKeyError\u001b[0m: \"['level_1'] not found in axis\""
     ]
    }
   ],
   "source": [
    "mar_apr_visits['diff'] = mar_apr_visits.drop(columns='level_1',axis=1)['VisitDateTime'].diff() / np.timedelta64(1, 'D')\n",
    "mar_apr_visits['diff'] = mar_apr_visits['diff'].round()\n",
    "mar_apr_visits[mar_apr_visits['diff']>1]"
   ]
  },
  {
   "cell_type": "code",
   "execution_count": null,
   "metadata": {},
   "outputs": [
    {
     "data": {
      "text/html": [
       "<div>\n",
       "<style scoped>\n",
       "    .dataframe tbody tr th:only-of-type {\n",
       "        vertical-align: middle;\n",
       "    }\n",
       "\n",
       "    .dataframe tbody tr th {\n",
       "        vertical-align: top;\n",
       "    }\n",
       "\n",
       "    .dataframe thead th {\n",
       "        text-align: right;\n",
       "    }\n",
       "</style>\n",
       "<table border=\"1\" class=\"dataframe\">\n",
       "  <thead>\n",
       "    <tr style=\"text-align: right;\">\n",
       "      <th></th>\n",
       "      <th>PatientCode</th>\n",
       "      <th>level_1</th>\n",
       "      <th>VisitDateTime</th>\n",
       "    </tr>\n",
       "  </thead>\n",
       "  <tbody>\n",
       "    <tr>\n",
       "      <th>0</th>\n",
       "      <td>0006f3bf-6789</td>\n",
       "      <td>44377</td>\n",
       "      <td>2022-03-03 19:39:17</td>\n",
       "    </tr>\n",
       "    <tr>\n",
       "      <th>1</th>\n",
       "      <td>00073e0c-8a3a</td>\n",
       "      <td>18702</td>\n",
       "      <td>2022-04-14 13:13:59</td>\n",
       "    </tr>\n",
       "    <tr>\n",
       "      <th>2</th>\n",
       "      <td>000def8c-b89d</td>\n",
       "      <td>26600</td>\n",
       "      <td>2022-03-07 15:33:34</td>\n",
       "    </tr>\n",
       "    <tr>\n",
       "      <th>3</th>\n",
       "      <td>000def8c-b89d</td>\n",
       "      <td>26322</td>\n",
       "      <td>2022-03-08 09:51:04</td>\n",
       "    </tr>\n",
       "    <tr>\n",
       "      <th>4</th>\n",
       "      <td>00118793-a612</td>\n",
       "      <td>44563</td>\n",
       "      <td>2022-03-26 21:25:08</td>\n",
       "    </tr>\n",
       "    <tr>\n",
       "      <th>...</th>\n",
       "      <td>...</td>\n",
       "      <td>...</td>\n",
       "      <td>...</td>\n",
       "    </tr>\n",
       "    <tr>\n",
       "      <th>9384</th>\n",
       "      <td>fff3ab14-0644</td>\n",
       "      <td>32364</td>\n",
       "      <td>2022-04-27 17:54:13</td>\n",
       "    </tr>\n",
       "    <tr>\n",
       "      <th>9385</th>\n",
       "      <td>fff3afc9-fc31</td>\n",
       "      <td>24088</td>\n",
       "      <td>2022-03-03 18:03:48</td>\n",
       "    </tr>\n",
       "    <tr>\n",
       "      <th>9386</th>\n",
       "      <td>fff3afc9-fc31</td>\n",
       "      <td>23739</td>\n",
       "      <td>2022-03-08 14:42:54</td>\n",
       "    </tr>\n",
       "    <tr>\n",
       "      <th>9387</th>\n",
       "      <td>fff3afc9-fc31</td>\n",
       "      <td>25624</td>\n",
       "      <td>2022-03-09 17:51:44</td>\n",
       "    </tr>\n",
       "    <tr>\n",
       "      <th>9388</th>\n",
       "      <td>fff3afc9-fc31</td>\n",
       "      <td>24317</td>\n",
       "      <td>2022-03-14 17:14:33</td>\n",
       "    </tr>\n",
       "  </tbody>\n",
       "</table>\n",
       "<p>9389 rows × 3 columns</p>\n",
       "</div>"
      ],
      "text/plain": [
       "        PatientCode  level_1       VisitDateTime\n",
       "0     0006f3bf-6789    44377 2022-03-03 19:39:17\n",
       "1     00073e0c-8a3a    18702 2022-04-14 13:13:59\n",
       "2     000def8c-b89d    26600 2022-03-07 15:33:34\n",
       "3     000def8c-b89d    26322 2022-03-08 09:51:04\n",
       "4     00118793-a612    44563 2022-03-26 21:25:08\n",
       "...             ...      ...                 ...\n",
       "9384  fff3ab14-0644    32364 2022-04-27 17:54:13\n",
       "9385  fff3afc9-fc31    24088 2022-03-03 18:03:48\n",
       "9386  fff3afc9-fc31    23739 2022-03-08 14:42:54\n",
       "9387  fff3afc9-fc31    25624 2022-03-09 17:51:44\n",
       "9388  fff3afc9-fc31    24317 2022-03-14 17:14:33\n",
       "\n",
       "[9389 rows x 3 columns]"
      ]
     },
     "execution_count": 199,
     "metadata": {},
     "output_type": "execute_result"
    }
   ],
   "source": [
    "mar_apr_visits"
   ]
  },
  {
   "cell_type": "code",
   "execution_count": 28,
   "metadata": {},
   "outputs": [
    {
     "data": {
      "text/html": [
       "<div>\n",
       "<style scoped>\n",
       "    .dataframe tbody tr th:only-of-type {\n",
       "        vertical-align: middle;\n",
       "    }\n",
       "\n",
       "    .dataframe tbody tr th {\n",
       "        vertical-align: top;\n",
       "    }\n",
       "\n",
       "    .dataframe thead th {\n",
       "        text-align: right;\n",
       "    }\n",
       "</style>\n",
       "<table border=\"1\" class=\"dataframe\">\n",
       "  <thead>\n",
       "    <tr style=\"text-align: right;\">\n",
       "      <th></th>\n",
       "      <th>NPS Score</th>\n",
       "    </tr>\n",
       "  </thead>\n",
       "  <tbody>\n",
       "    <tr>\n",
       "      <th>count</th>\n",
       "      <td>1928.000000</td>\n",
       "    </tr>\n",
       "    <tr>\n",
       "      <th>mean</th>\n",
       "      <td>8.872407</td>\n",
       "    </tr>\n",
       "    <tr>\n",
       "      <th>std</th>\n",
       "      <td>2.468548</td>\n",
       "    </tr>\n",
       "    <tr>\n",
       "      <th>min</th>\n",
       "      <td>0.000000</td>\n",
       "    </tr>\n",
       "    <tr>\n",
       "      <th>25%</th>\n",
       "      <td>9.000000</td>\n",
       "    </tr>\n",
       "    <tr>\n",
       "      <th>50%</th>\n",
       "      <td>10.000000</td>\n",
       "    </tr>\n",
       "    <tr>\n",
       "      <th>75%</th>\n",
       "      <td>10.000000</td>\n",
       "    </tr>\n",
       "    <tr>\n",
       "      <th>max</th>\n",
       "      <td>11.000000</td>\n",
       "    </tr>\n",
       "  </tbody>\n",
       "</table>\n",
       "</div>"
      ],
      "text/plain": [
       "         NPS Score\n",
       "count  1928.000000\n",
       "mean      8.872407\n",
       "std       2.468548\n",
       "min       0.000000\n",
       "25%       9.000000\n",
       "50%      10.000000\n",
       "75%      10.000000\n",
       "max      11.000000"
      ]
     },
     "execution_count": 28,
     "metadata": {},
     "output_type": "execute_result"
    }
   ],
   "source": [
    "df_visits[df_visits['NPS Score'].notna()].describe()"
   ]
  }
 ],
 "metadata": {
  "kernelspec": {
   "display_name": "base",
   "language": "python",
   "name": "python3"
  },
  "language_info": {
   "codemirror_mode": {
    "name": "ipython",
    "version": 3
   },
   "file_extension": ".py",
   "mimetype": "text/x-python",
   "name": "python",
   "nbconvert_exporter": "python",
   "pygments_lexer": "ipython3",
   "version": "3.9.13"
  },
  "orig_nbformat": 4
 },
 "nbformat": 4,
 "nbformat_minor": 2
}
